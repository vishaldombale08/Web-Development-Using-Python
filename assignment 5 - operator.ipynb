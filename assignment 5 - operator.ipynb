{
 "cells": [
  {
   "cell_type": "code",
   "execution_count": 3,
   "id": "1ef82744",
   "metadata": {},
   "outputs": [
    {
     "name": "stdout",
     "output_type": "stream",
     "text": [
      "enter a number 2534\n",
      "253\n"
     ]
    }
   ],
   "source": [
    "#1.Write a python script to remove the last digit from a given number. (for example, if user enters 2534 then your output should be 253)\n",
    "\n",
    "n = int(input(\"enter a number \"))\n",
    "output=n//10\n",
    "print(output)"
   ]
  },
  {
   "cell_type": "code",
   "execution_count": 4,
   "id": "8e60e21b",
   "metadata": {},
   "outputs": [
    {
     "name": "stdout",
     "output_type": "stream",
     "text": [
      "enter a number 2089\n",
      "9\n"
     ]
    }
   ],
   "source": [
    "#2. Write a python script to get the last digit from a given number. (for example, if user enters 2089 then your output should be 9)\n",
    "\n",
    "n = int(input(\"enter a number \"))\n",
    "output = n % 10\n",
    "print(output)"
   ]
  },
  {
   "cell_type": "code",
   "execution_count": null,
   "id": "5e7383d2",
   "metadata": {},
   "outputs": [],
   "source": [
    "#3. Write a python script to swap data of two variables\n"
   ]
  },
  {
   "cell_type": "code",
   "execution_count": 6,
   "id": "4933b6e3",
   "metadata": {},
   "outputs": [
    {
     "name": "stdout",
     "output_type": "stream",
     "text": [
      "enter a number3\n",
      "enter a number4\n",
      "x power y is 81\n"
     ]
    }
   ],
   "source": [
    "#4. Write a python script to find x power y, where values of x and y are given by user\n",
    "x= int(input(\"enter a number\"))\n",
    "y= int(input(\"enter a number\"))\n",
    "\n",
    "output= x**y\n",
    "print(\"x power y is\", output)"
   ]
  },
  {
   "cell_type": "code",
   "execution_count": 11,
   "id": "ca0b3bdd",
   "metadata": {},
   "outputs": [
    {
     "name": "stdout",
     "output_type": "stream",
     "text": [
      "enter any three digit number345\n",
      "3\n"
     ]
    }
   ],
   "source": [
    "#5. Write a python script which takes a three digit number from the user and displays only its first digit.\n",
    "\n",
    "n = int(input(\"enter any three digit number\"))\n",
    "display_first_digit = n//100\n",
    "print(display_first_digit)"
   ]
  },
  {
   "cell_type": "code",
   "execution_count": 16,
   "id": "f0a430b9",
   "metadata": {},
   "outputs": [
    {
     "name": "stdout",
     "output_type": "stream",
     "text": [
      "enter any three digit number123\n",
      "2\n"
     ]
    }
   ],
   "source": [
    "#6. Write a python script which takes a three digit number from the user and displays only its middle digit.\n",
    "n = int(input(\"enter any three digit number\"))\n",
    "display_middle_digit = (n//10)%10\n",
    "print(display_middle_digit)"
   ]
  },
  {
   "cell_type": "code",
   "execution_count": 19,
   "id": "c23e4905",
   "metadata": {},
   "outputs": [
    {
     "name": "stdout",
     "output_type": "stream",
     "text": [
      "enter any three digit number123\n",
      "3\n"
     ]
    }
   ],
   "source": [
    "#7. Write a python script which takes a three digit number from the user and displays only its last digit.\n",
    "n = int(input(\"enter any three digit number\"))\n",
    "display_first_digit = n%10\n",
    "print(display_first_digit)"
   ]
  },
  {
   "cell_type": "code",
   "execution_count": 21,
   "id": "9d1824f8",
   "metadata": {},
   "outputs": [
    {
     "name": "stdout",
     "output_type": "stream",
     "text": [
      "6\n",
      "data is not present\n"
     ]
    }
   ],
   "source": [
    "#8. Write a python script to use IN operator to display the data present in the list\n",
    "\n",
    "data = [1,2,3,4,5]\n",
    "\n",
    "n = int(input())\n",
    "\n",
    "if n in data:\n",
    "    print(\"data is present in the data\")\n",
    "else:\n",
    "    print(\"data is not present\")"
   ]
  },
  {
   "cell_type": "code",
   "execution_count": 24,
   "id": "420650a6",
   "metadata": {},
   "outputs": [
    {
     "name": "stdout",
     "output_type": "stream",
     "text": [
      "8\n",
      "data is not present in the data\n"
     ]
    }
   ],
   "source": [
    "#9. Write a python script to use NOT IN operator to display the data not present in list\n",
    "data = [1,2,3,4,5]\n",
    "\n",
    "n = int(input())\n",
    "\n",
    "if n not in data:\n",
    "    print(\"data is not present in the data\")\n",
    "else:\n",
    "    print(\"data is present\")\n",
    "    "
   ]
  },
  {
   "cell_type": "code",
   "execution_count": 26,
   "id": "3e1d8806",
   "metadata": {},
   "outputs": [
    {
     "name": "stdout",
     "output_type": "stream",
     "text": [
      "6\n",
      "5\n",
      "object is different\n"
     ]
    }
   ],
   "source": [
    "#10. Write a python script to use IS operator to display if both variables are the same object or not?\n",
    "a = int(input())\n",
    "b = int(input())\n",
    "\n",
    "if a is b:\n",
    "    print(\"object is same\")\n",
    "else:\n",
    "    print(\"object is different\")"
   ]
  },
  {
   "cell_type": "code",
   "execution_count": null,
   "id": "acb2e4eb",
   "metadata": {},
   "outputs": [],
   "source": []
  }
 ],
 "metadata": {
  "kernelspec": {
   "display_name": "Python 3 (ipykernel)",
   "language": "python",
   "name": "python3"
  },
  "language_info": {
   "codemirror_mode": {
    "name": "ipython",
    "version": 3
   },
   "file_extension": ".py",
   "mimetype": "text/x-python",
   "name": "python",
   "nbconvert_exporter": "python",
   "pygments_lexer": "ipython3",
   "version": "3.9.13"
  }
 },
 "nbformat": 4,
 "nbformat_minor": 5
}

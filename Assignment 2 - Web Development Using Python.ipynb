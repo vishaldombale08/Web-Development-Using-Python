{
 "cells": [
  {
   "cell_type": "code",
   "execution_count": 7,
   "id": "dbcc45ed",
   "metadata": {},
   "outputs": [
    {
     "name": "stdout",
     "output_type": "stream",
     "text": [
      "above is lerning python comment which is not prinable\n"
     ]
    }
   ],
   "source": [
    "#1. Write a python script to add comments and print “Learning Python” on screen.\n",
    "\n",
    "#\"Learning Python\"\n",
    "print(\"above is lerning python comment which is not prinable\")"
   ]
  },
  {
   "cell_type": "code",
   "execution_count": null,
   "id": "19a9221d",
   "metadata": {},
   "outputs": [],
   "source": [
    "Write a python script to add multi line comments and print values of four variables,\n",
    "each in a new line. Variable contains any values.\n",
    "\n",
    "\"\"\"\n",
    "a = 10\n",
    "b = 20\n",
    "c = 30\n",
    "d = 40\n",
    "\"\"\""
   ]
  },
  {
   "cell_type": "code",
   "execution_count": 21,
   "id": "7a7c87c8",
   "metadata": {},
   "outputs": [
    {
     "name": "stdout",
     "output_type": "stream",
     "text": [
      "<class 'int'>\n",
      "<class 'bool'>\n",
      "<class 'str'>\n",
      "<class 'float'>\n",
      "<class 'complex'>\n"
     ]
    }
   ],
   "source": [
    "#3. Write a python script to print types of variables. Create 5 variables each of them containing different types of data. (like 35, True, “MySirG”,5.46, 3+4j, etc)\n",
    "\n",
    "a = 35\n",
    "b = True\n",
    "c = \"MySirG\"\n",
    "d = 5.46\n",
    "e = 3+4j\n",
    "\n",
    "print(type(a))\n",
    "print(type(b))\n",
    "print(type(c))\n",
    "print(type(d))\n",
    "print(type(e))\n"
   ]
  },
  {
   "cell_type": "code",
   "execution_count": 23,
   "id": "7920aa9f",
   "metadata": {},
   "outputs": [
    {
     "name": "stdout",
     "output_type": "stream",
     "text": [
      "2609669368240\n",
      "2609669368240\n"
     ]
    }
   ],
   "source": [
    "#4. Write a python script to print the id of two variables containing the same integer values.\n",
    "\n",
    "a =5\n",
    "b =5\n",
    "\n",
    "print(id(a))\n",
    "print(id(b))"
   ]
  },
  {
   "cell_type": "code",
   "execution_count": 8,
   "id": "d7728d4a",
   "metadata": {},
   "outputs": [
    {
     "name": "stdout",
     "output_type": "stream",
     "text": [
      "3 <class 'int'> 2248182098288\n",
      "vishal <class 'str'> 2248265649840\n",
      "True <class 'bool'> 140705208531048\n",
      "(3+4j) <class 'complex'> 2248265447696\n",
      "4.6 <class 'float'> 2248265449264\n"
     ]
    }
   ],
   "source": [
    "#5. Create four variables in a Python script and assign values of different data types to them. Write a Python script to print value, its type and id of each variable\n",
    "\n",
    "a = 3\n",
    "b = \"vishal\"\n",
    "c = True\n",
    "d = 3+4j\n",
    "e = 4.6\n",
    "\n",
    "print(a, type(a), id(a))\n",
    "print(b, type(b), id(b))\n",
    "print(c, type(c), id(c))\n",
    "print(d, type(d), id(d))\n",
    "print(e, type(e), id(e))"
   ]
  },
  {
   "cell_type": "code",
   "execution_count": 24,
   "id": "b306cfd5",
   "metadata": {},
   "outputs": [
    {
     "name": "stdout",
     "output_type": "stream",
     "text": [
      "['False', 'None', 'True', '__peg_parser__', 'and', 'as', 'assert', 'async', 'await', 'break', 'class', 'continue', 'def', 'del', 'elif', 'else', 'except', 'finally', 'for', 'from', 'global', 'if', 'import', 'in', 'is', 'lambda', 'nonlocal', 'not', 'or', 'pass', 'raise', 'return', 'try', 'while', 'with', 'yield']\n"
     ]
    }
   ],
   "source": [
    "#6. Write a python script to print all the keywords\n",
    "import keyword\n",
    "print(keyword.kwlist)"
   ]
  },
  {
   "cell_type": "code",
   "execution_count": null,
   "id": "379b230e",
   "metadata": {},
   "outputs": [],
   "source": [
    "#7. On Python shell use help() function and display the list of keywords\n",
    "\n",
    "#i have used it in python shell \n",
    "\n",
    "help()\n",
    "help> keywords\n",
    "\n",
    "Here is a list of the Python keywords.  Enter any keyword to get more help.\n",
    "\n",
    "False               class               from                or\n",
    "None                continue            global              pass\n",
    "True                def                 if                  raise\n",
    "and                 del                 import              return\n",
    "as                  elif                in                  try\n",
    "assert              else                is                  while\n",
    "async               except              lambda              with\n",
    "await               finally             nonlocal            yield\n",
    "break               for                 not                 \n",
    "\n",
    "# i have get the output like all keywords\n"
   ]
  },
  {
   "cell_type": "code",
   "execution_count": 10,
   "id": "487ba2e3",
   "metadata": {},
   "outputs": [
    {
     "name": "stdout",
     "output_type": "stream",
     "text": [
      "10\n",
      "10\n"
     ]
    }
   ],
   "source": [
    "\"\"\"10.Create two Python files A0.py and A1.py. Create a variable in A1.py and assign some\n",
    "value to it. Write a python script to import A1 module in A0 and print value of the\n",
    "variable created in A0.py\"\"\"\n",
    "\n",
    "#stored in A1 file\n",
    "\n",
    "x=10\n",
    "print(x)\n",
    "\n",
    "#importe A1 file in A0 file get printed its output\n",
    "\n",
    "import A1\n",
    "print(A1.x)\n"
   ]
  },
  {
   "cell_type": "code",
   "execution_count": 11,
   "id": "d0976cdd",
   "metadata": {},
   "outputs": [],
   "source": [
    "#9. Name the keywords, used as data in the Python script.\n",
    "\n",
    "True\n",
    "False\n",
    "None\n"
   ]
  },
  {
   "cell_type": "code",
   "execution_count": 12,
   "id": "e97fcd1a",
   "metadata": {},
   "outputs": [
    {
     "name": "stdout",
     "output_type": "stream",
     "text": [
      "05-06-2023 and 03:12 PM\n"
     ]
    }
   ],
   "source": [
    "\"\"\"10. Write a python script to display the current date and time. First create variables to\n",
    "store date and time, then display date and time in proper format (like: 13-8-2022 and\n",
    "9:00 PM)\"\"\"\n",
    "\n",
    "from datetime import datetime\n",
    "dt = datetime.today();\n",
    "\n",
    "d1 = dt.strftime(\"%d-%m-%Y and %I:%M %p\")\n",
    "print(d1)"
   ]
  },
  {
   "cell_type": "code",
   "execution_count": null,
   "id": "cfb18003",
   "metadata": {},
   "outputs": [],
   "source": []
  }
 ],
 "metadata": {
  "kernelspec": {
   "display_name": "Python 3 (ipykernel)",
   "language": "python",
   "name": "python3"
  },
  "language_info": {
   "codemirror_mode": {
    "name": "ipython",
    "version": 3
   },
   "file_extension": ".py",
   "mimetype": "text/x-python",
   "name": "python",
   "nbconvert_exporter": "python",
   "pygments_lexer": "ipython3",
   "version": "3.9.13"
  }
 },
 "nbformat": 4,
 "nbformat_minor": 5
}

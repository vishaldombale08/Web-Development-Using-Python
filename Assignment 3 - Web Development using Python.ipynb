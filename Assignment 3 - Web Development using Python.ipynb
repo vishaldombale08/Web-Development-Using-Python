{
 "cells": [
  {
   "cell_type": "code",
   "execution_count": 9,
   "id": "f0ef7466",
   "metadata": {},
   "outputs": [
    {
     "name": "stdout",
     "output_type": "stream",
     "text": [
      "<class 'str'>\n"
     ]
    }
   ],
   "source": [
    "#1. Write a python script to convert a number into str type.\n",
    "\n",
    "x = 10\n",
    "print(type(str(x)))"
   ]
  },
  {
   "cell_type": "code",
   "execution_count": 13,
   "id": "1ee8ecaf",
   "metadata": {},
   "outputs": [
    {
     "name": "stdout",
     "output_type": "stream",
     "text": [
      "109\n"
     ]
    }
   ],
   "source": [
    "#2. Write a python script to print Unicode of the character ‘m’\n",
    "print(ord(\"m\"))"
   ]
  },
  {
   "cell_type": "code",
   "execution_count": 14,
   "id": "1afe0601",
   "metadata": {},
   "outputs": [
    {
     "name": "stdout",
     "output_type": "stream",
     "text": [
      "d\n"
     ]
    }
   ],
   "source": [
    "#3. Write a python script to print character representation of a given unicode 100.\n",
    "print(chr(100))"
   ]
  },
  {
   "cell_type": "code",
   "execution_count": null,
   "id": "2258ea3c",
   "metadata": {},
   "outputs": [
    {
     "name": "stdout",
     "output_type": "stream",
     "text": [
      "23\n"
     ]
    }
   ],
   "source": [
    "#4. Write a python script to print any number and its binary equivalent\n",
    "\n",
    "a =int(input())\n",
    "print(bin(a))"
   ]
  },
  {
   "cell_type": "code",
   "execution_count": 2,
   "id": "63af6518",
   "metadata": {},
   "outputs": [
    {
     "name": "stdout",
     "output_type": "stream",
     "text": [
      "23\n",
      "0o27\n"
     ]
    }
   ],
   "source": [
    "#5. Write a python script to print any number and its octal equivalent.\n",
    "\n",
    "a =int(input())\n",
    "print(oct(a))"
   ]
  },
  {
   "cell_type": "code",
   "execution_count": 3,
   "id": "22092811",
   "metadata": {},
   "outputs": [
    {
     "name": "stdout",
     "output_type": "stream",
     "text": [
      "23\n",
      "0x17\n"
     ]
    }
   ],
   "source": [
    "#6. Write a python script to print any number and its hexadecimal equivalent.\n",
    "a =int(input())\n",
    "print(hex(a))"
   ]
  },
  {
   "cell_type": "code",
   "execution_count": 6,
   "id": "ab24b324",
   "metadata": {},
   "outputs": [
    {
     "name": "stdout",
     "output_type": "stream",
     "text": [
      "101\n"
     ]
    }
   ],
   "source": [
    "#7. Write a python script to store binary number 1100101 in a variable and print it in decimal format.\n",
    "a = 0b1100101\n",
    "print (a)"
   ]
  },
  {
   "cell_type": "code",
   "execution_count": 7,
   "id": "9c6645d6",
   "metadata": {},
   "outputs": [
    {
     "name": "stdout",
     "output_type": "stream",
     "text": [
      "47\n"
     ]
    }
   ],
   "source": [
    "#8. Write a python script to store a hexadecimal number 2F in a variable and print it in octal format.\n",
    "a = 0x2F\n",
    "print(a)"
   ]
  },
  {
   "cell_type": "code",
   "execution_count": 8,
   "id": "8bc1b049",
   "metadata": {},
   "outputs": [
    {
     "name": "stdout",
     "output_type": "stream",
     "text": [
      "85\n"
     ]
    }
   ],
   "source": [
    "#9. Write a python script to store an octal number 125 in a variable and print it in binary format.\n",
    "a = 0o125\n",
    "print(a)"
   ]
  },
  {
   "cell_type": "code",
   "execution_count": 23,
   "id": "18f7fe58",
   "metadata": {},
   "outputs": [
    {
     "name": "stdout",
     "output_type": "stream",
     "text": [
      "0b101010b111001\n"
     ]
    }
   ],
   "source": [
    "#10. Write a python script to add two numbers 25 (in octal) and 39 (in hexadecimal) and display the result in binary format.\n",
    "\n",
    "a = 0o25\n",
    "b = 0x39\n",
    "\n",
    "r = bin(a)+bin(b)\n",
    "print(r)"
   ]
  },
  {
   "cell_type": "code",
   "execution_count": 35,
   "id": "725ceb59",
   "metadata": {},
   "outputs": [
    {
     "name": "stdout",
     "output_type": "stream",
     "text": [
      "1\n",
      "2\n",
      "3\n",
      "4\n",
      "5\n",
      "6\n",
      "7\n",
      "8\n",
      "9\n",
      "10\n"
     ]
    }
   ],
   "source": [
    "i = 1\n",
    "while i<=10:\n",
    "    print(i, end=\"\\n\")\n",
    "    i=i+1"
   ]
  },
  {
   "cell_type": "code",
   "execution_count": null,
   "id": "efa78da1",
   "metadata": {},
   "outputs": [],
   "source": []
  }
 ],
 "metadata": {
  "kernelspec": {
   "display_name": "Python 3 (ipykernel)",
   "language": "python",
   "name": "python3"
  },
  "language_info": {
   "codemirror_mode": {
    "name": "ipython",
    "version": 3
   },
   "file_extension": ".py",
   "mimetype": "text/x-python",
   "name": "python",
   "nbconvert_exporter": "python",
   "pygments_lexer": "ipython3",
   "version": "3.9.13"
  }
 },
 "nbformat": 4,
 "nbformat_minor": 5
}

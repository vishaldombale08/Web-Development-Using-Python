{
 "cells": [
  {
   "cell_type": "code",
   "execution_count": 3,
   "id": "a636660e",
   "metadata": {},
   "outputs": [
    {
     "name": "stdout",
     "output_type": "stream",
     "text": [
      "5\n",
      "10\n",
      "15\n",
      "20\n",
      "25\n",
      "30\n",
      "35\n",
      "40\n",
      "45\n",
      "50\n"
     ]
    }
   ],
   "source": [
    "#1. Write a python script to print the first 10 multiples of 5.\n",
    "\n",
    "\n",
    "for i in range(1,11):\n",
    "    print(5*i)"
   ]
  },
  {
   "cell_type": "code",
   "execution_count": 5,
   "id": "f673b0f5",
   "metadata": {},
   "outputs": [
    {
     "name": "stdout",
     "output_type": "stream",
     "text": [
      "enter a numer2\n",
      "2\n",
      "4\n",
      "6\n",
      "8\n",
      "10\n",
      "12\n",
      "14\n",
      "16\n",
      "18\n",
      "20\n"
     ]
    }
   ],
   "source": [
    "#2. Write a python script to print first 10 multiples of N\n",
    "\n",
    "user_input= int(input(\"enter a numer\"))\n",
    "for i in range(1,11):\n",
    "    print(user_input*i)"
   ]
  },
  {
   "cell_type": "code",
   "execution_count": 9,
   "id": "c94283ad",
   "metadata": {},
   "outputs": [
    {
     "name": "stdout",
     "output_type": "stream",
     "text": [
      "provide number to you want multiply2\n",
      "number that you want to multiply10\n",
      "2\n",
      "4\n",
      "6\n",
      "8\n",
      "10\n",
      "12\n",
      "14\n",
      "16\n",
      "18\n",
      "20\n"
     ]
    }
   ],
   "source": [
    "#3. Write a python script to print first M multiples of N.\n",
    "\n",
    "n= int(input(\"provide number to you want multiply\"))\n",
    "m=int(input(\"number that you want to multiply\"))\n",
    "\n",
    "for i in range(1,(m+1)):\n",
    "    print(n*i)\n",
    "    "
   ]
  },
  {
   "cell_type": "code",
   "execution_count": 14,
   "id": "1642d2a3",
   "metadata": {},
   "outputs": [
    {
     "name": "stdout",
     "output_type": "stream",
     "text": [
      "enter a number to multiply2\n",
      "20\n",
      "18\n",
      "16\n",
      "14\n",
      "12\n",
      "10\n",
      "8\n",
      "6\n",
      "4\n",
      "2\n"
     ]
    }
   ],
   "source": [
    "#4. Write a python script to print the first 10 multiples of N in reverse order.\n",
    "n = int(input(\"enter a number to multiply\"))\n",
    "\n",
    "for i in range(10, 0,-1):\n",
    "    print(i*n)"
   ]
  },
  {
   "cell_type": "code",
   "execution_count": 21,
   "id": "f61a7ef3",
   "metadata": {},
   "outputs": [
    {
     "name": "stdout",
     "output_type": "stream",
     "text": [
      "enter a any number to get a table for that number 29\n",
      "29\n",
      "58\n",
      "87\n",
      "116\n",
      "145\n",
      "174\n",
      "203\n",
      "232\n",
      "261\n",
      "290\n"
     ]
    }
   ],
   "source": [
    "#5. Write a python script to print table of user’s choice\n",
    "\n",
    "get_any_number_table = int(input(\"enter a any number to get a table for that number \"))\n",
    "\n",
    "for i in range(1,11):\n",
    "    print(i*get_any_number_table)\n",
    "    "
   ]
  },
  {
   "cell_type": "code",
   "execution_count": 32,
   "id": "a93783bc",
   "metadata": {},
   "outputs": [
    {
     "name": "stdout",
     "output_type": "stream",
     "text": [
      "enter a number10\n",
      "2\n",
      "4\n",
      "6\n",
      "8\n",
      "10\n",
      "12\n",
      "14\n",
      "16\n",
      "18\n",
      "20\n"
     ]
    }
   ],
   "source": [
    "#6. Write a python script to print first N even natural numbers. \n",
    "\n",
    "even_natural_numebrs = int(input(\"enter a number\"))\n",
    "for i in range(1,(even_natural_numebrs+1)):\n",
    "    print(i*2)"
   ]
  },
  {
   "cell_type": "code",
   "execution_count": 31,
   "id": "8385f06c",
   "metadata": {},
   "outputs": [
    {
     "name": "stdout",
     "output_type": "stream",
     "text": [
      "enter a number10\n",
      "1\n",
      "3\n",
      "5\n",
      "7\n",
      "9\n",
      "11\n",
      "13\n",
      "15\n",
      "17\n",
      "19\n"
     ]
    }
   ],
   "source": [
    "#7. Write a python script to print first N odd natural numbers\n",
    "\n",
    "odd_natural_numebrs = int(input(\"enter a number\"))\n",
    "for i in range(1,(odd_natural_numebrs*2),2):\n",
    "    print(i)"
   ]
  },
  {
   "cell_type": "code",
   "execution_count": 33,
   "id": "c6be0e7e",
   "metadata": {},
   "outputs": [
    {
     "name": "stdout",
     "output_type": "stream",
     "text": [
      "enter a number10\n",
      "1\n",
      "4\n",
      "9\n",
      "16\n",
      "25\n",
      "36\n",
      "49\n",
      "64\n",
      "81\n",
      "100\n"
     ]
    }
   ],
   "source": [
    "#8. Write a python script to print squares of first N natural numbers.\n",
    "\n",
    "even_natural_numebrs = int(input(\"enter a number\"))\n",
    "for i in range(1,(even_natural_numebrs+1)):\n",
    "    print(i**2)"
   ]
  },
  {
   "cell_type": "code",
   "execution_count": 34,
   "id": "b1ab17bf",
   "metadata": {},
   "outputs": [
    {
     "name": "stdout",
     "output_type": "stream",
     "text": [
      "enter a number10\n",
      "1\n",
      "8\n",
      "27\n",
      "64\n",
      "125\n",
      "216\n",
      "343\n",
      "512\n",
      "729\n",
      "1000\n"
     ]
    }
   ],
   "source": [
    "#9. Write a python script to print cubes of first N natural numbers.\n",
    "\n",
    "even_natural_numebrs = int(input(\"enter a number\"))\n",
    "for i in range(1,(even_natural_numebrs+1)):\n",
    "    print(i**3)"
   ]
  },
  {
   "cell_type": "code",
   "execution_count": 36,
   "id": "c2ed4e3c",
   "metadata": {},
   "outputs": [
    {
     "name": "stdout",
     "output_type": "stream",
     "text": [
      "Prime numbers between 15 and 45 are:\n",
      "17\n",
      "19\n",
      "23\n",
      "29\n",
      "31\n",
      "37\n",
      "41\n",
      "43\n"
     ]
    }
   ],
   "source": [
    "#10. Write a python script to display all prime numbers within a range.\n",
    "\n",
    "\n",
    "# range\n",
    "start = 15\n",
    "end = 45\n",
    "\n",
    "print(f\"Prime numbers between {start} and {end} are:\")\n",
    "\n",
    "for num in range(start, end + 1):\n",
    "    # Prime numbers are greater than 1\n",
    "    if num > 1:\n",
    "        for i in range(2, num):\n",
    "            if (num % i) == 0:\n",
    "                break\n",
    "        else:\n",
    "            print(num)\n"
   ]
  },
  {
   "cell_type": "code",
   "execution_count": null,
   "id": "36ceec9d",
   "metadata": {},
   "outputs": [],
   "source": []
  }
 ],
 "metadata": {
  "kernelspec": {
   "display_name": "Python 3 (ipykernel)",
   "language": "python",
   "name": "python3"
  },
  "language_info": {
   "codemirror_mode": {
    "name": "ipython",
    "version": 3
   },
   "file_extension": ".py",
   "mimetype": "text/x-python",
   "name": "python",
   "nbconvert_exporter": "python",
   "pygments_lexer": "ipython3",
   "version": "3.9.13"
  }
 },
 "nbformat": 4,
 "nbformat_minor": 5
}

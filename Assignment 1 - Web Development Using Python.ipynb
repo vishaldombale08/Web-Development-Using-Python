{
 "cells": [
  {
   "cell_type": "code",
   "execution_count": 1,
   "id": "15742437",
   "metadata": {},
   "outputs": [
    {
     "name": "stdout",
     "output_type": "stream",
     "text": [
      "3.9.13 (main, Aug 25 2022, 23:51:50) [MSC v.1916 64 bit (AMD64)]\n"
     ]
    }
   ],
   "source": [
    "#1. Write a command to get the Python version you are using.\n",
    "import sys\n",
    "print(sys.version)"
   ]
  },
  {
   "cell_type": "code",
   "execution_count": 4,
   "id": "20903319",
   "metadata": {},
   "outputs": [
    {
     "name": "stdout",
     "output_type": "stream",
     "text": [
      "Hello Python\n"
     ]
    }
   ],
   "source": [
    "#2. Write a python script to print Hello Python on the screen directly in the command line.\n",
    "print(\"Hello Python\")"
   ]
  },
  {
   "cell_type": "markdown",
   "id": "29b2ed46",
   "metadata": {},
   "source": [
    "#3. Write a python script and store it in a file and execute the file from the command line.\n",
    "#input\n",
    "C:\\Users\\Vishal>python \"E:\\Ineuron\\Web Development using Python\\Python Codes\\Web Development Using Python All Assignment\\Assignment 1 - Web Development Using Python - Done.py\"\n",
    "\n",
    "#output\n",
    "\n",
    "#will get output"
   ]
  },
  {
   "cell_type": "code",
   "execution_count": 5,
   "id": "4c8c06c5",
   "metadata": {},
   "outputs": [
    {
     "name": "stdout",
     "output_type": "stream",
     "text": [
      "Hello Python\n"
     ]
    }
   ],
   "source": [
    "#4. Write a python script to print Hello Python on the screen using visual studio code.\n",
    "\n",
    "#same as followed above question\n",
    "\n",
    "print(\"Hello Python\")"
   ]
  },
  {
   "cell_type": "code",
   "execution_count": 6,
   "id": "679e41d4",
   "metadata": {},
   "outputs": [
    {
     "name": "stdout",
     "output_type": "stream",
     "text": [
      "Hello\n",
      "Pyhton\n"
     ]
    }
   ],
   "source": [
    "#5. Write a python script to print Hello on the first line and Python on the second line\n",
    "\n",
    "print(\"Hello\")\n",
    "print(\"Pyhton\")"
   ]
  },
  {
   "cell_type": "code",
   "execution_count": 8,
   "id": "fa6118e7",
   "metadata": {},
   "outputs": [
    {
     "name": "stdout",
     "output_type": "stream",
     "text": [
      "Hello\n",
      "Python\n"
     ]
    }
   ],
   "source": [
    "#5. Write a python script to print Hello on the first line and Python on the second line\n",
    "\n",
    "print(\"Hello\", \"Python\", sep=\"\\n\")"
   ]
  },
  {
   "cell_type": "code",
   "execution_count": 11,
   "id": "06a2cb0b",
   "metadata": {},
   "outputs": [
    {
     "name": "stdout",
     "output_type": "stream",
     "text": [
      "\"MySirG\"\n"
     ]
    }
   ],
   "source": [
    "#6. Write a python script to print “MySirG” on the screen.\n",
    "\n",
    "print(\"\\\"MySirG\\\"\")"
   ]
  },
  {
   "cell_type": "code",
   "execution_count": 12,
   "id": "645b5887",
   "metadata": {},
   "outputs": [
    {
     "name": "stdout",
     "output_type": "stream",
     "text": [
      "\"Teacher's Day\"\n"
     ]
    }
   ],
   "source": [
    "#7. Write a python script to print “Teacher’s Day” on the screen\n",
    "\n",
    "print(\"\\\"Teacher's Day\\\"\")"
   ]
  },
  {
   "cell_type": "code",
   "execution_count": 17,
   "id": "3630e962",
   "metadata": {},
   "outputs": [
    {
     "name": "stdout",
     "output_type": "stream",
     "text": [
      "Vishal Dadaso Dombale\n"
     ]
    }
   ],
   "source": [
    "#8. Write a python script to print the value of a variable. Variable contains your name as data.\n",
    "\n",
    "Name = \"Vishal Dadaso Dombale\"\n",
    "print(Name)"
   ]
  },
  {
   "cell_type": "code",
   "execution_count": 5,
   "id": "f9404e7f",
   "metadata": {},
   "outputs": [
    {
     "name": "stdout",
     "output_type": "stream",
     "text": [
      "Vishal Dadaso Dombale\n",
      "23\n",
      "B.E(Artificial Intelligence and Machine Learning)\n",
      "3\n"
     ]
    }
   ],
   "source": [
    "#9. Write a python script to create variables to store your name, age, qualification, years of experience and print it.\n",
    "\n",
    "a = \"Vishal Dadaso Dombale\"\n",
    "b = 23\n",
    "c = \"B.E(Artificial Intelligence and Machine Learning)\"\n",
    "d = 3\n",
    "print(a,b,c,d, sep=(\"\\n\"))"
   ]
  },
  {
   "cell_type": "code",
   "execution_count": 6,
   "id": "119d02f0",
   "metadata": {},
   "outputs": [
    {
     "name": "stdout",
     "output_type": "stream",
     "text": [
      "8\n",
      "12\n",
      "20\n"
     ]
    }
   ],
   "source": [
    "#10. Write a python script to print values of three variables, each in a new line. Variable contains integer values\n",
    "\n",
    "a = 8\n",
    "b = 12\n",
    "c = 20\n",
    "print(a,b,c, sep=(\"\\n\"))"
   ]
  }
 ],
 "metadata": {
  "kernelspec": {
   "display_name": "Python 3 (ipykernel)",
   "language": "python",
   "name": "python3"
  },
  "language_info": {
   "codemirror_mode": {
    "name": "ipython",
    "version": 3
   },
   "file_extension": ".py",
   "mimetype": "text/x-python",
   "name": "python",
   "nbconvert_exporter": "python",
   "pygments_lexer": "ipython3",
   "version": "3.9.13"
  }
 },
 "nbformat": 4,
 "nbformat_minor": 5
}

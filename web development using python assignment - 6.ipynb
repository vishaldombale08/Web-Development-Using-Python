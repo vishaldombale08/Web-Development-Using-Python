{
 "cells": [
  {
   "cell_type": "code",
   "execution_count": 3,
   "id": "b079a7c6",
   "metadata": {},
   "outputs": [
    {
     "name": "stdout",
     "output_type": "stream",
     "text": [
      "enter a number0\n",
      "given number is non-positive\n"
     ]
    }
   ],
   "source": [
    "#1. Write a python script to check whether a given number is positive or non-positive\n",
    "\n",
    "i = int(input(\"enter a number\"))\n",
    "if i>0:\n",
    "    print(\"given number is positive\")\n",
    "else:\n",
    "    print(\"given number is non-positive\")"
   ]
  },
  {
   "cell_type": "code",
   "execution_count": 4,
   "id": "eb628c2a",
   "metadata": {},
   "outputs": [
    {
     "name": "stdout",
     "output_type": "stream",
     "text": [
      "enter a number36\n",
      "it is not divisible by 5\n"
     ]
    }
   ],
   "source": [
    "#2. Write a python script to check whether a given number is divisible by 5 or not\n",
    "i = int(input(\"enter a number\"))\n",
    "if i%5 == 0:\n",
    "    print(\"It is divisible by 5\")\n",
    "else:\n",
    "    print(\"it is not divisible by 5\")\n"
   ]
  },
  {
   "cell_type": "code",
   "execution_count": 6,
   "id": "960e4815",
   "metadata": {},
   "outputs": [
    {
     "name": "stdout",
     "output_type": "stream",
     "text": [
      "enter a number5\n",
      "it is an odd number 5\n"
     ]
    }
   ],
   "source": [
    "#3. Write a python script to check whether a given number is even or odd\n",
    "\n",
    "i = int(input(\"enter a number\"))\n",
    "\n",
    "if i%2==0 :\n",
    "    print(\"it is an even number\", i)\n",
    "else:\n",
    "    print(\"it is an odd number\", i)"
   ]
  },
  {
   "cell_type": "code",
   "execution_count": 6,
   "id": "a0defa63",
   "metadata": {},
   "outputs": [
    {
     "name": "stdout",
     "output_type": "stream",
     "text": [
      "enter first number99\n",
      "enter second number23\n",
      "99\n"
     ]
    }
   ],
   "source": [
    "#4. Write a python script to print greater between two numbers. Print number only once even if the numbers are the same.\n",
    "\n",
    "\n",
    "first_number = int(input(\"enter first number\"))\n",
    "second_number = int(input(\"enter second number\"))\n",
    "\n",
    "if first_number<second_number:\n",
    "    print(second_number)\n",
    "elif first_number==second_number:\n",
    "    print(first_number)\n",
    "else:\n",
    "    print(first_number)"
   ]
  },
  {
   "cell_type": "code",
   "execution_count": 2,
   "id": "72d391a3",
   "metadata": {},
   "outputs": [
    {
     "name": "stdout",
     "output_type": "stream",
     "text": [
      "enter a first wordMayuri\n",
      "enter a second wordMegha\n",
      "Megha Mayuri\n"
     ]
    }
   ],
   "source": [
    "#5. Write a python script to print two given words in dictionary order\n",
    "\n",
    "i = input(\"enter a first word\")\n",
    "j = input(\"enter a second word\")\n",
    "\n",
    "if i<j:\n",
    "    print(j,i)\n",
    "else:\n",
    "    print(i,j)"
   ]
  },
  {
   "cell_type": "code",
   "execution_count": null,
   "id": "10206493",
   "metadata": {},
   "outputs": [],
   "source": [
    "#6. Write a python script to check whether a given number is a three digit number or not.\n",
    "i = int(input(\"enter three digit number only\"))\n",
    "if 99<i<1000:\n",
    "    print(\"entered number is three digit\")\n",
    "else:\n",
    "    print(\"it is not a three digit\")"
   ]
  },
  {
   "cell_type": "code",
   "execution_count": 3,
   "id": "76a529ed",
   "metadata": {},
   "outputs": [
    {
     "name": "stdout",
     "output_type": "stream",
     "text": [
      "enter a number-0\n",
      "given number is zero\n"
     ]
    }
   ],
   "source": [
    "#7. Write a python script to check whether a given number is positive, negative or zero.\n",
    "i = int(input(\"enter a number\"))\n",
    "\n",
    "if i >0:\n",
    "    print(\"given number is positive\")\n",
    "elif i == 0:\n",
    "    print(\"given number is zero\")\n",
    "else:\n",
    "    print(\"given number is negative\")\n",
    "\n"
   ]
  },
  {
   "cell_type": "code",
   "execution_count": 6,
   "id": "53a7e1f6",
   "metadata": {},
   "outputs": [
    {
     "name": "stdout",
     "output_type": "stream",
     "text": [
      "enter a number0\n",
      "enter a number0\n",
      "enter a number0\n",
      "The quadratic equation has real and equal roots.\n"
     ]
    }
   ],
   "source": [
    "#8. Write a python script to check whether a given quadratic equation has two real & distinct roots, real & equal roots or imaginary roots\n",
    "a=int(input(\"enter a number\"))\n",
    "b=int(input(\"enter a number\"))\n",
    "c=int(input(\"enter a number\"))\n",
    "\n",
    "discriminant = (b**2)-(4*a*c)\n",
    "\n",
    "if discriminant > 0:\n",
    "    print(\"The quadratic equation has two real and distinct roots.\")\n",
    "elif discriminant == 0:\n",
    "    print(\"The quadratic equation has real and equal roots.\")\n",
    "else:\n",
    "    print(\"The quadratic equation has imaginary roots.\")\n",
    "\n",
    "\n"
   ]
  },
  {
   "cell_type": "code",
   "execution_count": 1,
   "id": "baa90f2c",
   "metadata": {},
   "outputs": [
    {
     "name": "stdout",
     "output_type": "stream",
     "text": [
      "enter a year23001\n",
      "it is not a leap year\n"
     ]
    }
   ],
   "source": [
    "\n",
    "#9. Write a python script to check whether a given year is a leap year or not.\n",
    "year = int(input(\"enter a year\"))\n",
    "if year % 4 == 0:\n",
    "    print(\"it is a leap year\")\n",
    "else:\n",
    "    print(\"it is not a leap year\")\n"
   ]
  },
  {
   "cell_type": "code",
   "execution_count": null,
   "id": "0e921164",
   "metadata": {},
   "outputs": [],
   "source": [
    "#10. Write a python script to print greater among three numbers. Print number only once even if the numbers are the same.\n",
    "\n",
    "\n",
    "first_number = int(input(\"enter first number\"))\n",
    "second_number = int(input(\"enter second number\"))\n",
    "third_number  = int(input(\"enter a third number\"))\n",
    "if first_number<second_number<third_number:\n",
    "    print(third_number)\n",
    "elif second_number<third_number<first_number:\n",
    "    print(first_number)\n",
    "else:\n",
    "    print(second_number)"
   ]
  },
  {
   "cell_type": "code",
   "execution_count": 5,
   "id": "2a5e718e",
   "metadata": {},
   "outputs": [
    {
     "name": "stdout",
     "output_type": "stream",
     "text": [
      "enter a month number between 1 to 12 any one12\n",
      "these month has 30 days\n"
     ]
    }
   ],
   "source": [
    "#11. Write a python script to take the month value in numeric format and display the number of days in it.\n",
    " \n",
    "month = int(input(\"enter a month number between 1 to 12 any one\"))\n",
    "\n",
    "if month == (1,3,5,7,8,10,12):\n",
    "    print(\"these month has 31 days\")\n",
    "elif month == 2:\n",
    "    print(\"it has 28 days and leap year has 29 days\")\n",
    "else:\n",
    "    print(\"these month has 30 days\")"
   ]
  },
  {
   "cell_type": "code",
   "execution_count": 7,
   "id": "0d32d3ee",
   "metadata": {},
   "outputs": [
    {
     "name": "stdout",
     "output_type": "stream",
     "text": [
      "Enter a complex number (in the form a+bj): 5+8j\n",
      "The greater part between real and imaginary is: Imaginary = 8.0\n"
     ]
    }
   ],
   "source": [
    "#12. Write a python script to accept one complex number from the user and display the greater number between real part and imaginary part\n",
    "\n",
    "complex_num = complex(input(\"Enter a complex number (in the form a+bj): \"))\n",
    "\n",
    "# Extract the real and imaginary parts\n",
    "real_part = complex_num.real\n",
    "imaginary_part = complex_num.imag\n",
    "\n",
    "# Compare the real and imaginary parts\n",
    "if real_part > imaginary_part:\n",
    "    greater_part = real_part\n",
    "    part_name = \"Real\"\n",
    "else:\n",
    "    greater_part = imaginary_part\n",
    "    part_name = \"Imaginary\"\n",
    "\n",
    "    # Display the greater part\n",
    "print(f\"The greater part between real and imaginary is: {part_name} = {greater_part}\")"
   ]
  },
  {
   "cell_type": "code",
   "execution_count": null,
   "id": "37606c89",
   "metadata": {},
   "outputs": [],
   "source": []
  }
 ],
 "metadata": {
  "kernelspec": {
   "display_name": "Python 3 (ipykernel)",
   "language": "python",
   "name": "python3"
  },
  "language_info": {
   "codemirror_mode": {
    "name": "ipython",
    "version": 3
   },
   "file_extension": ".py",
   "mimetype": "text/x-python",
   "name": "python",
   "nbconvert_exporter": "python",
   "pygments_lexer": "ipython3",
   "version": "3.9.13"
  }
 },
 "nbformat": 4,
 "nbformat_minor": 5
}

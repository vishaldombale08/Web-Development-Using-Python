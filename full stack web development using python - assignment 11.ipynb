{
 "cells": [
  {
   "cell_type": "code",
   "execution_count": 7,
   "id": "6c5a0122",
   "metadata": {},
   "outputs": [
    {
     "name": "stdout",
     "output_type": "stream",
     "text": [
      "enter a number10\n",
      "1 2 3 4 5 6 7 8 9 10 sum of given natural number is  65\n"
     ]
    }
   ],
   "source": [
    "#1. Write a python script to calculate sum of first N natural numbers\n",
    "\n",
    "n = int(input(\"enter a number\"))\n",
    "l=[]\n",
    "i=1\n",
    "while i<n+1:\n",
    "    print(i, end=\" \")\n",
    "    i= i+1\n",
    "    l.append(i)\n",
    "\n",
    "    \n",
    "print(\"sum of given natural number is \", sum(l))"
   ]
  },
  {
   "cell_type": "code",
   "execution_count": 8,
   "id": "9dd3fded",
   "metadata": {},
   "outputs": [
    {
     "name": "stdout",
     "output_type": "stream",
     "text": [
      "enter a number10\n",
      "1 4 9 16 25 36 49 64 81 100 sum of squares given natural number is  505\n"
     ]
    }
   ],
   "source": [
    "#2. Write a python script to calculate sum of squares of first N natural numbers\n",
    "\n",
    "n = int(input(\"enter a number\"))\n",
    "l=[]\n",
    "i=1\n",
    "while i<n+1:\n",
    "    print(i**2, end=\" \")\n",
    "    i= i+1\n",
    "    l.append(i**2)\n",
    "print(\"sum of squares given natural number is \", sum(l))"
   ]
  },
  {
   "cell_type": "code",
   "execution_count": 9,
   "id": "0afa388f",
   "metadata": {},
   "outputs": [
    {
     "name": "stdout",
     "output_type": "stream",
     "text": [
      "enter a number10\n",
      "3025\n"
     ]
    }
   ],
   "source": [
    "#3. Write a python script to calculate sum of cubes of first N natural numbers\n",
    "\n",
    "n = int(input(\"enter a number\"))\n",
    "\n",
    "output= 0\n",
    "\n",
    "for i in range(1, n+1):\n",
    "    output+=i**3\n",
    "print(output)"
   ]
  },
  {
   "cell_type": "code",
   "execution_count": 3,
   "id": "e5d7c6e5",
   "metadata": {},
   "outputs": [
    {
     "name": "stdout",
     "output_type": "stream",
     "text": [
      "1\n",
      "1\n"
     ]
    }
   ],
   "source": [
    "#4. Write a python script to calculate sum of first N odd natural numbers\n",
    "\n",
    "n= int(input())\n",
    "final=0\n",
    "\n",
    "for i in range(1, n*2, 2):\n",
    "    final+=i\n",
    "\n",
    "print(final)\n",
    "\n",
    "\n"
   ]
  },
  {
   "cell_type": "code",
   "execution_count": 3,
   "id": "1543bc15",
   "metadata": {},
   "outputs": [
    {
     "name": "stdout",
     "output_type": "stream",
     "text": [
      "5\n",
      "30\n"
     ]
    }
   ],
   "source": [
    "#5. Write a python script to calculate sum of first N even natural numbers\n",
    "\n",
    "n= int(input())\n",
    "final=0\n",
    "\n",
    "for i in range(1, n+1):\n",
    "    final+=i*2\n",
    "print(final)"
   ]
  },
  {
   "cell_type": "code",
   "execution_count": 7,
   "id": "95808c06",
   "metadata": {},
   "outputs": [
    {
     "name": "stdout",
     "output_type": "stream",
     "text": [
      "enter a number to calculate a factorial0\n",
      "1\n"
     ]
    }
   ],
   "source": [
    "#6. Write a python script to calculate factorial of a given number\n",
    "\n",
    "n = int(input(\"enter a number to calculate a factorial\"))\n",
    "factorial=1\n",
    "for i in range(1, n+1):\n",
    "    factorial*=i\n",
    "print(factorial)\n",
    "    "
   ]
  },
  {
   "cell_type": "code",
   "execution_count": 5,
   "id": "b6a0efc5",
   "metadata": {},
   "outputs": [
    {
     "name": "stdout",
     "output_type": "stream",
     "text": [
      "4000\n",
      "total digit inculdes in 0 4\n"
     ]
    }
   ],
   "source": [
    "#7. Write a python script to count digits in a given number\n",
    "\n",
    "i = int(input())\n",
    "\n",
    "count= 0\n",
    "\n",
    "while i != 0:\n",
    "    i//=10\n",
    "    count+=1\n",
    "print(f\"total digit inculdes in {i}\",count)"
   ]
  },
  {
   "cell_type": "code",
   "execution_count": 6,
   "id": "498a7966",
   "metadata": {},
   "outputs": [
    {
     "name": "stdout",
     "output_type": "stream",
     "text": [
      "enter a number808\n",
      "16\n"
     ]
    }
   ],
   "source": [
    "#8. Write a python script to calculate sum of digits of a given number\n",
    "i = str(input(\"enter a number\"))\n",
    "addition_of_digits=0\n",
    "for x in i:\n",
    "    addition_of_digits+=int(x)\n",
    "print(addition_of_digits)"
   ]
  },
  {
   "cell_type": "code",
   "execution_count": 8,
   "id": "50f3fa3e",
   "metadata": {},
   "outputs": [
    {
     "name": "stdout",
     "output_type": "stream",
     "text": [
      "39898\n",
      "1001101111011010\n"
     ]
    }
   ],
   "source": [
    "#9. Write a python script to print binary equivalent of a given decimal number. (do not use bin() method)\n",
    "\n",
    "decimal= int(input())\n",
    "if decimal == 0:\n",
    "    print(\"0\")\n",
    "binary = ''\n",
    "while decimal > 0:\n",
    "    binary = str(decimal % 2) + binary\n",
    "    decimal //= 2\n",
    "\n",
    "print(binary)"
   ]
  },
  {
   "cell_type": "code",
   "execution_count": 2,
   "id": "7fa399c9",
   "metadata": {},
   "outputs": [
    {
     "name": "stdout",
     "output_type": "stream",
     "text": [
      "15\n",
      "Octal equivalent: 17\n"
     ]
    }
   ],
   "source": [
    "#10. Write a python script to print the octal equivalent of a given decimal number. (do not use oct() method)\n",
    "\n",
    "decimal = int(input())\n",
    "octal = ''\n",
    "\n",
    "while decimal > 0:\n",
    "    remainder = decimal % 8\n",
    "    octal = str(remainder) + octal\n",
    "    decimal = decimal // 8\n",
    "\n",
    "print(\"Octal equivalent:\", octal)"
   ]
  }
 ],
 "metadata": {
  "kernelspec": {
   "display_name": "Python 3 (ipykernel)",
   "language": "python",
   "name": "python3"
  },
  "language_info": {
   "codemirror_mode": {
    "name": "ipython",
    "version": 3
   },
   "file_extension": ".py",
   "mimetype": "text/x-python",
   "name": "python",
   "nbconvert_exporter": "python",
   "pygments_lexer": "ipython3",
   "version": "3.9.13"
  }
 },
 "nbformat": 4,
 "nbformat_minor": 5
}

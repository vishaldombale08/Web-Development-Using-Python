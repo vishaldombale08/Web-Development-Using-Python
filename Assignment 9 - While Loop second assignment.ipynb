{
 "cells": [
  {
   "cell_type": "code",
   "execution_count": null,
   "id": "b72521b5",
   "metadata": {},
   "outputs": [],
   "source": [
    "#1. Write a python script to print MySirG N times on the screen\n",
    "\n",
    "n = int(input())\n",
    "i = 1\n",
    "while i<=n:\n",
    "    print(\"MySirG\")\n",
    "    i+=1\n",
    "print()\n"
   ]
  },
  {
   "cell_type": "code",
   "execution_count": 1,
   "id": "fd8f1fc4",
   "metadata": {},
   "outputs": [
    {
     "name": "stdout",
     "output_type": "stream",
     "text": [
      "20\n",
      "1 2 3 4 5 6 7 8 9 10 11 12 13 14 15 16 17 18 19 20 \n"
     ]
    }
   ],
   "source": [
    "#2. Write a python script to print first N natural numbers\n",
    "n = int(input())\n",
    "i = 1\n",
    "while i <=n:\n",
    "    print(i, end=\" \")\n",
    "    i+=1\n",
    "print()"
   ]
  },
  {
   "cell_type": "code",
   "execution_count": 22,
   "id": "571d4127",
   "metadata": {},
   "outputs": [
    {
     "name": "stdout",
     "output_type": "stream",
     "text": [
      "10\n",
      "10 9 8 7 6 5 4 3 2 1 "
     ]
    }
   ],
   "source": [
    "#3. Write a python script to print first n natural numbers in reverse order\n",
    "\n",
    "n = int(input())\n",
    "i = n\n",
    "while i >= 1:\n",
    "    print(i, end=' ')\n",
    "    i -= 1"
   ]
  },
  {
   "cell_type": "code",
   "execution_count": 12,
   "id": "b02f659d",
   "metadata": {},
   "outputs": [
    {
     "name": "stdout",
     "output_type": "stream",
     "text": [
      "40\n",
      "1 3 5 7 9 11 13 15 17 19 21 23 25 27 29 31 33 35 37 39 41 43 45 47 49 51 53 55 57 59 61 63 65 67 69 71 73 75 77 79 "
     ]
    }
   ],
   "source": [
    "#4. Write a python script to print first n odd natural numbers\n",
    "n = (2*int(input()))\n",
    "i = 1\n",
    "while i<=n:\n",
    "    print(i, end=\" \")\n",
    "    i+=2"
   ]
  },
  {
   "cell_type": "code",
   "execution_count": 27,
   "id": "de0e5e88",
   "metadata": {},
   "outputs": [
    {
     "name": "stdout",
     "output_type": "stream",
     "text": [
      "20\n",
      "39 37 35 33 31 29 27 25 23 21 19 17 15 13 11 9 7 5 3 1 \n"
     ]
    }
   ],
   "source": [
    "#5. Write a python script to print n odd natural numbers in reverse order\n",
    "n = (2*int(input()))\n",
    "i = n-1\n",
    "while i>=1:\n",
    "    print(i, end=\" \")\n",
    "    i-=2\n",
    "print()"
   ]
  },
  {
   "cell_type": "code",
   "execution_count": 26,
   "id": "80fc1636",
   "metadata": {},
   "outputs": [
    {
     "name": "stdout",
     "output_type": "stream",
     "text": [
      "5\n",
      "2 4 6 8 10 "
     ]
    }
   ],
   "source": [
    "#6. Write a python script to print first n even natural numbers\n",
    "n = (2*int(input()))\n",
    "i = 2\n",
    "while i<=n:\n",
    "    print(i, end=\" \")\n",
    "    i+=2"
   ]
  },
  {
   "cell_type": "code",
   "execution_count": 25,
   "id": "d667a6df",
   "metadata": {},
   "outputs": [
    {
     "name": "stdout",
     "output_type": "stream",
     "text": [
      "20\n",
      "40 38 36 34 32 30 28 26 24 22 20 18 16 14 12 10 8 6 4 2 \n"
     ]
    }
   ],
   "source": [
    "#7. Write a python script to print first n even natural numbers in reverse order\n",
    "n = (2*int(input()))\n",
    "i = n\n",
    "while i>=1:\n",
    "    print(i, end=\" \")\n",
    "    i-=2\n",
    "print()"
   ]
  },
  {
   "cell_type": "code",
   "execution_count": 28,
   "id": "c210b557",
   "metadata": {},
   "outputs": [
    {
     "name": "stdout",
     "output_type": "stream",
     "text": [
      "5\n",
      "1 8 27 64 125 \n"
     ]
    }
   ],
   "source": [
    "#9. Write a python script to print cubes of first N natural numbers\n",
    "n = int(input())\n",
    "i = 1\n",
    "while i <=n:\n",
    "    print(i**3, end=\" \")\n",
    "    i+=1\n",
    "print()"
   ]
  },
  {
   "cell_type": "code",
   "execution_count": 29,
   "id": "8f0106ae",
   "metadata": {},
   "outputs": [
    {
     "name": "stdout",
     "output_type": "stream",
     "text": [
      "10\n",
      "5 10 15 20 25 30 35 40 45 50 \n"
     ]
    }
   ],
   "source": [
    "#10. Write a python script to print first N multiples of 5\n",
    "n= int(input())\n",
    "i = 1\n",
    "while i <=n:\n",
    "    print(i*5, end=\" \")\n",
    "    i+=1\n",
    "print()"
   ]
  }
 ],
 "metadata": {
  "kernelspec": {
   "display_name": "Python 3 (ipykernel)",
   "language": "python",
   "name": "python3"
  },
  "language_info": {
   "codemirror_mode": {
    "name": "ipython",
    "version": 3
   },
   "file_extension": ".py",
   "mimetype": "text/x-python",
   "name": "python",
   "nbconvert_exporter": "python",
   "pygments_lexer": "ipython3",
   "version": "3.9.13"
  }
 },
 "nbformat": 4,
 "nbformat_minor": 5
}

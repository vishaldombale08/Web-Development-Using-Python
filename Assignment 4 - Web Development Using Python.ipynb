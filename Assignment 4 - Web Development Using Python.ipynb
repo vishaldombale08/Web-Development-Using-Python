{
 "cells": [
  {
   "cell_type": "code",
   "execution_count": 1,
   "id": "2b9f9a50",
   "metadata": {},
   "outputs": [
    {
     "name": "stdout",
     "output_type": "stream",
     "text": [
      "Enter your NameVishal Dadaso Dombale\n",
      "Vishal Dadaso Dombale\n"
     ]
    }
   ],
   "source": [
    "#1. Write a python script to take your name as input from the user and then print it.\n",
    "Name = input(\"Enter your Name\")\n",
    "print(Name)"
   ]
  },
  {
   "cell_type": "code",
   "execution_count": 5,
   "id": "c75249f7",
   "metadata": {},
   "outputs": [
    {
     "name": "stdout",
     "output_type": "stream",
     "text": [
      "Enter Number onlyvishal\n",
      "you have entere wrong\n"
     ]
    }
   ],
   "source": [
    "#2. Write a python script to take input from the user. Input must be a number.\n",
    "Number = input(\"Enter Number only\")\n",
    "if type(Number) == int:\n",
    "    print(\"Yes enetered correct\")\n",
    "else:\n",
    "    print(\"you have entered wrong entry\")"
   ]
  },
  {
   "cell_type": "code",
   "execution_count": 8,
   "id": "d10401cb",
   "metadata": {},
   "outputs": [
    {
     "name": "stdout",
     "output_type": "stream",
     "text": [
      "Enter Number only4\n",
      "4\n"
     ]
    }
   ],
   "source": [
    "#2. Write a python script to take input from the user. Input must be a number.\n",
    "\n",
    "#using inbuilt int function\n",
    "\n",
    "Number = int(input(\"Enter Number only\"))\n",
    "print(Number)\n"
   ]
  },
  {
   "cell_type": "code",
   "execution_count": 4,
   "id": "bf4a1ceb",
   "metadata": {},
   "outputs": [
    {
     "name": "stdout",
     "output_type": "stream",
     "text": [
      "enter first number4\n",
      "enter second number6\n",
      "10\n"
     ]
    }
   ],
   "source": [
    "#3. Write a python script which takes two numbers from the user, then calculate their sum and display the result.\n",
    "sum = int(input(\"enter first number\"))+int(input(\"enter second number\"))\n",
    "\n",
    "print(sum)"
   ]
  },
  {
   "cell_type": "code",
   "execution_count": 10,
   "id": "72343d3e",
   "metadata": {},
   "outputs": [
    {
     "name": "stdout",
     "output_type": "stream",
     "text": [
      "9\n",
      "254.34\n"
     ]
    }
   ],
   "source": [
    "#4. Write a python script which takes the radius from the user and display area of a circle.\n",
    "radius_of_circle = int(input())\n",
    "area_of_circle = 3.14 * radius_of_circle * radius_of_circle\n",
    "print(area_of_circle)"
   ]
  },
  {
   "cell_type": "code",
   "execution_count": 14,
   "id": "834d7e47",
   "metadata": {},
   "outputs": [
    {
     "name": "stdout",
     "output_type": "stream",
     "text": [
      "Enter a Number5\n",
      "25\n"
     ]
    }
   ],
   "source": [
    "#5. Write a python script to calculate the square of a number. Number is entered by the user\n",
    "\n",
    "x = int(input(\"Enter a Number\"))\n",
    "square_of_number= x**2\n",
    "print(square_of_number)"
   ]
  },
  {
   "cell_type": "code",
   "execution_count": 18,
   "id": "b8d09e68",
   "metadata": {},
   "outputs": [
    {
     "name": "stdout",
     "output_type": "stream",
     "text": [
      "enter a base value5\n",
      "enter a height value6\n",
      "area of triangle is 15.0\n"
     ]
    }
   ],
   "source": [
    "#6. Write a python script to calculate the area of Triangle. Number is entered by the user\n",
    "\n",
    "base = int(input(\"enter a base value\"))\n",
    "height= int(input(\"enter a height value\"))\n",
    "area_of_triangle= 0.5*base*height\n",
    "print(\"area of triangle is\", area_of_triangle)"
   ]
  },
  {
   "cell_type": "code",
   "execution_count": 17,
   "id": "6df78856",
   "metadata": {},
   "outputs": [
    {
     "name": "stdout",
     "output_type": "stream",
     "text": [
      "Input the base : 5\n",
      "Input the height : 6\n",
      "area =  15.0\n"
     ]
    }
   ],
   "source": [
    "#6. Write a python script to calculate the area of Triangle. Number is entered by the user\n",
    "b = int(input(\"Input the base : \"))\n",
    "h = int(input(\"Input the height : \"))\n",
    "\n",
    "area = b*h/2\n",
    "\n",
    "print(\"area = \", area)"
   ]
  },
  {
   "cell_type": "code",
   "execution_count": 24,
   "id": "f4085f3f",
   "metadata": {},
   "outputs": [
    {
     "name": "stdout",
     "output_type": "stream",
     "text": [
      "enter number only3\n",
      "enter number only4\n",
      "enter number only6\n",
      "average of three number is 4.333333333333333\n"
     ]
    }
   ],
   "source": [
    "#7. Write a python script to calculate average of three numbers, entered by the user\n",
    "\n",
    "a=int(input(\"enter number only\"))\n",
    "b=int(input(\"enter number only\"))\n",
    "c=int(input(\"enter number only\"))\n",
    "\n",
    "d= (a+b+c)/3\n",
    "print(\"average of three number is\", d)\n"
   ]
  },
  {
   "cell_type": "code",
   "execution_count": 6,
   "id": "431d327e",
   "metadata": {},
   "outputs": [
    {
     "name": "stdout",
     "output_type": "stream",
     "text": [
      "enter an amount 100000\n",
      "enter how many years 2\n",
      "interest rate per annum 24\n",
      "interest is  48000.0\n"
     ]
    }
   ],
   "source": [
    "#8. Write a python script to calculate simple interest\n",
    "\n",
    "#1 lakh for 2% for 2 year\n",
    "x=int(input(\"enter an amount \"))\n",
    "y=int(input(\"enter how many years \"))\n",
    "z=int(input(\"interest rate per annum \"))\n",
    "si= (x*y*z)/100\n",
    "print(\"interest is \", si)\n"
   ]
  },
  {
   "cell_type": "code",
   "execution_count": 8,
   "id": "2fd0df46",
   "metadata": {},
   "outputs": [
    {
     "name": "stdout",
     "output_type": "stream",
     "text": [
      "enter the length of cuboid2\n",
      "enter the breadth of cuboid3\n",
      "enter the height of cuboid4\n",
      "Volume of cuboid having length 2  breath 3  and height  4  is -->  24\n"
     ]
    }
   ],
   "source": [
    "#9. Write a python script to calculate the volume of a cuboid.\n",
    "\n",
    "length  = int(input(\"enter the length of cuboid\")) \n",
    "breadth = int(input(\"enter the breadth of cuboid\"))\n",
    "height  = int(input(\"enter the height of cuboid\"))\n",
    "\n",
    "# cuboid volume formula\n",
    "volume = length * breadth * height\n",
    "\n",
    "print(\"Volume of cuboid having length\", length, \" breath\", breadth, \" and height \", height,  \" is --> \", volume)"
   ]
  },
  {
   "cell_type": "code",
   "execution_count": 10,
   "id": "1c21bbe5",
   "metadata": {},
   "outputs": [
    {
     "name": "stdout",
     "output_type": "stream",
     "text": [
      "enter the length of rectangle: 5\n",
      "enter the width of rectangle: 4\n",
      "area of rectangle is 20\n"
     ]
    }
   ],
   "source": [
    "#10. Write a python script to calculate area of a rectangle\n",
    "\n",
    "l = int(input(\"enter the length of rectangle: \"))\n",
    "w = int(input(\"enter the width of rectangle: \"))\n",
    "area_of_rectangle = l*w\n",
    "print(\"area of rectangle is\", area_of_rectangle)"
   ]
  },
  {
   "cell_type": "code",
   "execution_count": null,
   "id": "03cfb891",
   "metadata": {},
   "outputs": [],
   "source": []
  }
 ],
 "metadata": {
  "kernelspec": {
   "display_name": "Python 3 (ipykernel)",
   "language": "python",
   "name": "python3"
  },
  "language_info": {
   "codemirror_mode": {
    "name": "ipython",
    "version": 3
   },
   "file_extension": ".py",
   "mimetype": "text/x-python",
   "name": "python",
   "nbconvert_exporter": "python",
   "pygments_lexer": "ipython3",
   "version": "3.9.13"
  }
 },
 "nbformat": 4,
 "nbformat_minor": 5
}

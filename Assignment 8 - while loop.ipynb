{
 "cells": [
  {
   "cell_type": "code",
   "execution_count": 3,
   "id": "f45dc60a",
   "metadata": {},
   "outputs": [
    {
     "name": "stdout",
     "output_type": "stream",
     "text": [
      "MySirG\n",
      "MySirG\n",
      "MySirG\n",
      "MySirG\n",
      "MySirG\n",
      "\n"
     ]
    }
   ],
   "source": [
    "#1. Write a python script to print MySirG 5 times on the screen\n",
    "\n",
    "i = 1\n",
    "while i<=5:\n",
    "    print(\"MySirG\")\n",
    "    i+=1\n",
    "print()"
   ]
  },
  {
   "cell_type": "code",
   "execution_count": 5,
   "id": "43e7b9f1",
   "metadata": {},
   "outputs": [
    {
     "name": "stdout",
     "output_type": "stream",
     "text": [
      "1 2 3 4 5 6 7 8 9 10 \n"
     ]
    }
   ],
   "source": [
    "#2. Write a python script to print first 10 natural numbers\n",
    "\n",
    "i = 1\n",
    "while i <=10:\n",
    "    print(i, end=\" \")\n",
    "    i+=1\n",
    "print()"
   ]
  },
  {
   "cell_type": "code",
   "execution_count": 2,
   "id": "279f5a9c",
   "metadata": {},
   "outputs": [
    {
     "name": "stdout",
     "output_type": "stream",
     "text": [
      "10 9 8 7 6 5 4 3 2 1 "
     ]
    }
   ],
   "source": [
    "#3. Write a python script to print first 10 natural numbers in reverse order\n",
    "\n",
    "i = 1\n",
    "while i <11:\n",
    "    print((11-i), end=\" \")\n",
    "    i+=1"
   ]
  },
  {
   "cell_type": "code",
   "execution_count": 3,
   "id": "1aa3016d",
   "metadata": {},
   "outputs": [
    {
     "name": "stdout",
     "output_type": "stream",
     "text": [
      "1 3 5 7 9 11 13 15 17 19 "
     ]
    }
   ],
   "source": [
    "#4. Write a python script to print first 10 odd natural numbers\n",
    "\n",
    "i = 1\n",
    "while i<=20:\n",
    "    print(i, end=\" \")\n",
    "    i+=2"
   ]
  },
  {
   "cell_type": "code",
   "execution_count": 4,
   "id": "babc7c84",
   "metadata": {},
   "outputs": [
    {
     "name": "stdout",
     "output_type": "stream",
     "text": [
      "19 17 15 13 11 9 7 5 3 1 \n"
     ]
    }
   ],
   "source": [
    "#5. Write a python script to print first 10 odd natural numbers in reverse order\n",
    "\n",
    "i = 19\n",
    "while i>=1:\n",
    "    print(i, end=\" \")\n",
    "    i-=2\n",
    "print()"
   ]
  },
  {
   "cell_type": "code",
   "execution_count": 5,
   "id": "214d878d",
   "metadata": {},
   "outputs": [
    {
     "name": "stdout",
     "output_type": "stream",
     "text": [
      "2 4 6 8 10 12 14 16 18 20 "
     ]
    }
   ],
   "source": [
    "#6. Write a python script to print first 10 even natural numbers\n",
    "i = 2\n",
    "while i<=20:\n",
    "    print(i, end=\" \")\n",
    "    i+=2"
   ]
  },
  {
   "cell_type": "code",
   "execution_count": 6,
   "id": "910c4f46",
   "metadata": {},
   "outputs": [
    {
     "name": "stdout",
     "output_type": "stream",
     "text": [
      "20 18 16 14 12 10 8 6 4 2 \n"
     ]
    }
   ],
   "source": [
    "#7. Write a python script to print first 10 even natural numbers in reverse order\n",
    "i = 20\n",
    "while i>=2:\n",
    "    print(i, end=\" \")\n",
    "    i-=2\n",
    "print()"
   ]
  },
  {
   "cell_type": "code",
   "execution_count": 7,
   "id": "98bc6d1e",
   "metadata": {},
   "outputs": [
    {
     "name": "stdout",
     "output_type": "stream",
     "text": [
      "1 4 9 16 25 36 49 64 81 100 \n"
     ]
    }
   ],
   "source": [
    "#8. Write a python script to print squares of first 10 natural numbers\n",
    "\n",
    "i = 1\n",
    "while i <=10:\n",
    "    print(i**2, end=\" \")\n",
    "    i+=1\n",
    "print()"
   ]
  },
  {
   "cell_type": "code",
   "execution_count": 8,
   "id": "2a9fdddc",
   "metadata": {},
   "outputs": [
    {
     "name": "stdout",
     "output_type": "stream",
     "text": [
      "1 8 27 64 125 216 343 512 729 1000 \n"
     ]
    }
   ],
   "source": [
    "#9. Write a python script to print cubes of first 10 natural numbers\n",
    "\n",
    "i = 1\n",
    "while i <=10:\n",
    "    print(i**3, end=\" \")\n",
    "    i+=1\n",
    "print()"
   ]
  },
  {
   "cell_type": "code",
   "execution_count": 9,
   "id": "e5a0f90f",
   "metadata": {},
   "outputs": [
    {
     "name": "stdout",
     "output_type": "stream",
     "text": [
      "5 10 15 20 25 30 35 40 45 50 \n"
     ]
    }
   ],
   "source": [
    "#10. Write a python script to print first 10 multiples of 5\n",
    "\n",
    "i = 1\n",
    "while i <=10:\n",
    "    print(i*5, end=\" \")\n",
    "    i+=1\n",
    "print()"
   ]
  },
  {
   "cell_type": "code",
   "execution_count": null,
   "id": "043700cf",
   "metadata": {},
   "outputs": [],
   "source": []
  }
 ],
 "metadata": {
  "kernelspec": {
   "display_name": "Python 3 (ipykernel)",
   "language": "python",
   "name": "python3"
  },
  "language_info": {
   "codemirror_mode": {
    "name": "ipython",
    "version": 3
   },
   "file_extension": ".py",
   "mimetype": "text/x-python",
   "name": "python",
   "nbconvert_exporter": "python",
   "pygments_lexer": "ipython3",
   "version": "3.9.13"
  }
 },
 "nbformat": 4,
 "nbformat_minor": 5
}
